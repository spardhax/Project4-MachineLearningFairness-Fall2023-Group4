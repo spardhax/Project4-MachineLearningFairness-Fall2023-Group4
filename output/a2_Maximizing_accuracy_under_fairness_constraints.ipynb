{
 "cells": [
  {
   "cell_type": "markdown",
   "metadata": {},
   "source": [
    "# Maximizing accuracy under fairness constraints (C-SVM and C-LR)"
   ]
  },
  {
   "cell_type": "code",
   "execution_count": 19,
   "metadata": {},
   "outputs": [],
   "source": [
    "from __future__ import division\n",
    "import matplotlib\n",
    "import pandas as pd\n",
    "import numpy as np\n",
    "\n",
    "# import urllib2\n",
    "import os,sys\n",
    "import numpy as np\n",
    "import pandas as pd\n",
    "from collections import defaultdict\n",
    "from sklearn import feature_extraction\n",
    "from sklearn import preprocessing\n",
    "from random import seed, shuffle\n",
    "import a2_loss_funcs as lf \n",
    "import a2_utils as ut\n",
    "import matplotlib.pyplot as plt\n",
    "import seaborn as sns"
   ]
  },
  {
   "cell_type": "code",
   "execution_count": 20,
   "metadata": {},
   "outputs": [
    {
     "data": {
      "text/html": [
       "<div>\n",
       "<style scoped>\n",
       "    .dataframe tbody tr th:only-of-type {\n",
       "        vertical-align: middle;\n",
       "    }\n",
       "\n",
       "    .dataframe tbody tr th {\n",
       "        vertical-align: top;\n",
       "    }\n",
       "\n",
       "    .dataframe thead th {\n",
       "        text-align: right;\n",
       "    }\n",
       "</style>\n",
       "<table border=\"1\" class=\"dataframe\">\n",
       "  <thead>\n",
       "    <tr style=\"text-align: right;\">\n",
       "      <th></th>\n",
       "      <th>id</th>\n",
       "      <th>name</th>\n",
       "      <th>first</th>\n",
       "      <th>last</th>\n",
       "      <th>compas_screening_date</th>\n",
       "      <th>sex</th>\n",
       "      <th>dob</th>\n",
       "      <th>age</th>\n",
       "      <th>age_cat</th>\n",
       "      <th>race</th>\n",
       "      <th>...</th>\n",
       "      <th>v_decile_score</th>\n",
       "      <th>v_score_text</th>\n",
       "      <th>v_screening_date</th>\n",
       "      <th>in_custody</th>\n",
       "      <th>out_custody</th>\n",
       "      <th>priors_count.1</th>\n",
       "      <th>start</th>\n",
       "      <th>end</th>\n",
       "      <th>event</th>\n",
       "      <th>two_year_recid</th>\n",
       "    </tr>\n",
       "  </thead>\n",
       "  <tbody>\n",
       "    <tr>\n",
       "      <th>0</th>\n",
       "      <td>1</td>\n",
       "      <td>miguel hernandez</td>\n",
       "      <td>miguel</td>\n",
       "      <td>hernandez</td>\n",
       "      <td>2013-08-14</td>\n",
       "      <td>Male</td>\n",
       "      <td>1947-04-18</td>\n",
       "      <td>69</td>\n",
       "      <td>Greater than 45</td>\n",
       "      <td>Other</td>\n",
       "      <td>...</td>\n",
       "      <td>1</td>\n",
       "      <td>Low</td>\n",
       "      <td>2013-08-14</td>\n",
       "      <td>2014-07-07</td>\n",
       "      <td>2014-07-14</td>\n",
       "      <td>0</td>\n",
       "      <td>0</td>\n",
       "      <td>327</td>\n",
       "      <td>0</td>\n",
       "      <td>0</td>\n",
       "    </tr>\n",
       "    <tr>\n",
       "      <th>1</th>\n",
       "      <td>3</td>\n",
       "      <td>kevon dixon</td>\n",
       "      <td>kevon</td>\n",
       "      <td>dixon</td>\n",
       "      <td>2013-01-27</td>\n",
       "      <td>Male</td>\n",
       "      <td>1982-01-22</td>\n",
       "      <td>34</td>\n",
       "      <td>25 - 45</td>\n",
       "      <td>African-American</td>\n",
       "      <td>...</td>\n",
       "      <td>1</td>\n",
       "      <td>Low</td>\n",
       "      <td>2013-01-27</td>\n",
       "      <td>2013-01-26</td>\n",
       "      <td>2013-02-05</td>\n",
       "      <td>0</td>\n",
       "      <td>9</td>\n",
       "      <td>159</td>\n",
       "      <td>1</td>\n",
       "      <td>1</td>\n",
       "    </tr>\n",
       "    <tr>\n",
       "      <th>2</th>\n",
       "      <td>4</td>\n",
       "      <td>ed philo</td>\n",
       "      <td>ed</td>\n",
       "      <td>philo</td>\n",
       "      <td>2013-04-14</td>\n",
       "      <td>Male</td>\n",
       "      <td>1991-05-14</td>\n",
       "      <td>24</td>\n",
       "      <td>Less than 25</td>\n",
       "      <td>African-American</td>\n",
       "      <td>...</td>\n",
       "      <td>3</td>\n",
       "      <td>Low</td>\n",
       "      <td>2013-04-14</td>\n",
       "      <td>2013-06-16</td>\n",
       "      <td>2013-06-16</td>\n",
       "      <td>4</td>\n",
       "      <td>0</td>\n",
       "      <td>63</td>\n",
       "      <td>0</td>\n",
       "      <td>1</td>\n",
       "    </tr>\n",
       "    <tr>\n",
       "      <th>3</th>\n",
       "      <td>5</td>\n",
       "      <td>marcu brown</td>\n",
       "      <td>marcu</td>\n",
       "      <td>brown</td>\n",
       "      <td>2013-01-13</td>\n",
       "      <td>Male</td>\n",
       "      <td>1993-01-21</td>\n",
       "      <td>23</td>\n",
       "      <td>Less than 25</td>\n",
       "      <td>African-American</td>\n",
       "      <td>...</td>\n",
       "      <td>6</td>\n",
       "      <td>Medium</td>\n",
       "      <td>2013-01-13</td>\n",
       "      <td>NaN</td>\n",
       "      <td>NaN</td>\n",
       "      <td>1</td>\n",
       "      <td>0</td>\n",
       "      <td>1174</td>\n",
       "      <td>0</td>\n",
       "      <td>0</td>\n",
       "    </tr>\n",
       "    <tr>\n",
       "      <th>4</th>\n",
       "      <td>6</td>\n",
       "      <td>bouthy pierrelouis</td>\n",
       "      <td>bouthy</td>\n",
       "      <td>pierrelouis</td>\n",
       "      <td>2013-03-26</td>\n",
       "      <td>Male</td>\n",
       "      <td>1973-01-22</td>\n",
       "      <td>43</td>\n",
       "      <td>25 - 45</td>\n",
       "      <td>Other</td>\n",
       "      <td>...</td>\n",
       "      <td>1</td>\n",
       "      <td>Low</td>\n",
       "      <td>2013-03-26</td>\n",
       "      <td>NaN</td>\n",
       "      <td>NaN</td>\n",
       "      <td>2</td>\n",
       "      <td>0</td>\n",
       "      <td>1102</td>\n",
       "      <td>0</td>\n",
       "      <td>0</td>\n",
       "    </tr>\n",
       "  </tbody>\n",
       "</table>\n",
       "<p>5 rows × 53 columns</p>\n",
       "</div>"
      ],
      "text/plain": [
       "   id                name   first         last compas_screening_date   sex  \\\n",
       "0   1    miguel hernandez  miguel    hernandez            2013-08-14  Male   \n",
       "1   3         kevon dixon   kevon        dixon            2013-01-27  Male   \n",
       "2   4            ed philo      ed        philo            2013-04-14  Male   \n",
       "3   5         marcu brown   marcu        brown            2013-01-13  Male   \n",
       "4   6  bouthy pierrelouis  bouthy  pierrelouis            2013-03-26  Male   \n",
       "\n",
       "          dob  age          age_cat              race  ...  v_decile_score  \\\n",
       "0  1947-04-18   69  Greater than 45             Other  ...               1   \n",
       "1  1982-01-22   34          25 - 45  African-American  ...               1   \n",
       "2  1991-05-14   24     Less than 25  African-American  ...               3   \n",
       "3  1993-01-21   23     Less than 25  African-American  ...               6   \n",
       "4  1973-01-22   43          25 - 45             Other  ...               1   \n",
       "\n",
       "   v_score_text  v_screening_date  in_custody  out_custody  priors_count.1  \\\n",
       "0           Low        2013-08-14  2014-07-07   2014-07-14               0   \n",
       "1           Low        2013-01-27  2013-01-26   2013-02-05               0   \n",
       "2           Low        2013-04-14  2013-06-16   2013-06-16               4   \n",
       "3        Medium        2013-01-13         NaN          NaN               1   \n",
       "4           Low        2013-03-26         NaN          NaN               2   \n",
       "\n",
       "  start   end event two_year_recid  \n",
       "0     0   327     0              0  \n",
       "1     9   159     1              1  \n",
       "2     0    63     0              1  \n",
       "3     0  1174     0              0  \n",
       "4     0  1102     0              0  \n",
       "\n",
       "[5 rows x 53 columns]"
      ]
     },
     "execution_count": 20,
     "metadata": {},
     "output_type": "execute_result"
    }
   ],
   "source": [
    "df = pd.read_csv(\"compas-scores-two-years.csv\")\n",
    "df.head()"
   ]
  },
  {
   "cell_type": "code",
   "execution_count": 21,
   "metadata": {},
   "outputs": [
    {
     "data": {
      "text/plain": [
       "(7214, 53)"
      ]
     },
     "execution_count": 21,
     "metadata": {},
     "output_type": "execute_result"
    }
   ],
   "source": [
    "df.shape"
   ]
  },
  {
   "cell_type": "markdown",
   "metadata": {},
   "source": [
    "#### Performing Exploratory Data Analysis"
   ]
  },
  {
   "cell_type": "code",
   "execution_count": 22,
   "metadata": {},
   "outputs": [
    {
     "data": {
      "text/html": [
       "<div>\n",
       "<style scoped>\n",
       "    .dataframe tbody tr th:only-of-type {\n",
       "        vertical-align: middle;\n",
       "    }\n",
       "\n",
       "    .dataframe tbody tr th {\n",
       "        vertical-align: top;\n",
       "    }\n",
       "\n",
       "    .dataframe thead th {\n",
       "        text-align: right;\n",
       "    }\n",
       "</style>\n",
       "<table border=\"1\" class=\"dataframe\">\n",
       "  <thead>\n",
       "    <tr style=\"text-align: right;\">\n",
       "      <th></th>\n",
       "      <th>id</th>\n",
       "      <th>age</th>\n",
       "      <th>juv_fel_count</th>\n",
       "      <th>decile_score</th>\n",
       "      <th>juv_misd_count</th>\n",
       "      <th>juv_other_count</th>\n",
       "      <th>priors_count</th>\n",
       "      <th>days_b_screening_arrest</th>\n",
       "      <th>c_days_from_compas</th>\n",
       "      <th>is_recid</th>\n",
       "      <th>r_days_from_arrest</th>\n",
       "      <th>violent_recid</th>\n",
       "      <th>is_violent_recid</th>\n",
       "      <th>decile_score.1</th>\n",
       "      <th>v_decile_score</th>\n",
       "      <th>priors_count.1</th>\n",
       "      <th>start</th>\n",
       "      <th>end</th>\n",
       "      <th>event</th>\n",
       "      <th>two_year_recid</th>\n",
       "    </tr>\n",
       "  </thead>\n",
       "  <tbody>\n",
       "    <tr>\n",
       "      <th>count</th>\n",
       "      <td>7214.000000</td>\n",
       "      <td>7214.000000</td>\n",
       "      <td>7214.000000</td>\n",
       "      <td>7214.000000</td>\n",
       "      <td>7214.000000</td>\n",
       "      <td>7214.000000</td>\n",
       "      <td>7214.000000</td>\n",
       "      <td>6907.000000</td>\n",
       "      <td>7192.000000</td>\n",
       "      <td>7214.000000</td>\n",
       "      <td>2316.000000</td>\n",
       "      <td>0.0</td>\n",
       "      <td>7214.000000</td>\n",
       "      <td>7214.000000</td>\n",
       "      <td>7214.000000</td>\n",
       "      <td>7214.000000</td>\n",
       "      <td>7214.000000</td>\n",
       "      <td>7214.000000</td>\n",
       "      <td>7214.000000</td>\n",
       "      <td>7214.000000</td>\n",
       "    </tr>\n",
       "    <tr>\n",
       "      <th>mean</th>\n",
       "      <td>5501.255753</td>\n",
       "      <td>34.817993</td>\n",
       "      <td>0.067230</td>\n",
       "      <td>4.509565</td>\n",
       "      <td>0.090934</td>\n",
       "      <td>0.109371</td>\n",
       "      <td>3.472415</td>\n",
       "      <td>3.304763</td>\n",
       "      <td>57.731368</td>\n",
       "      <td>0.481148</td>\n",
       "      <td>20.269430</td>\n",
       "      <td>NaN</td>\n",
       "      <td>0.113529</td>\n",
       "      <td>4.509565</td>\n",
       "      <td>3.691849</td>\n",
       "      <td>3.472415</td>\n",
       "      <td>11.465068</td>\n",
       "      <td>553.436651</td>\n",
       "      <td>0.382867</td>\n",
       "      <td>0.450652</td>\n",
       "    </tr>\n",
       "    <tr>\n",
       "      <th>std</th>\n",
       "      <td>3175.706870</td>\n",
       "      <td>11.888922</td>\n",
       "      <td>0.473972</td>\n",
       "      <td>2.856396</td>\n",
       "      <td>0.485239</td>\n",
       "      <td>0.501586</td>\n",
       "      <td>4.882538</td>\n",
       "      <td>75.809505</td>\n",
       "      <td>329.740215</td>\n",
       "      <td>0.499679</td>\n",
       "      <td>74.871668</td>\n",
       "      <td>NaN</td>\n",
       "      <td>0.317261</td>\n",
       "      <td>2.856396</td>\n",
       "      <td>2.510148</td>\n",
       "      <td>4.882538</td>\n",
       "      <td>46.954563</td>\n",
       "      <td>399.020583</td>\n",
       "      <td>0.486120</td>\n",
       "      <td>0.497593</td>\n",
       "    </tr>\n",
       "    <tr>\n",
       "      <th>min</th>\n",
       "      <td>1.000000</td>\n",
       "      <td>18.000000</td>\n",
       "      <td>0.000000</td>\n",
       "      <td>1.000000</td>\n",
       "      <td>0.000000</td>\n",
       "      <td>0.000000</td>\n",
       "      <td>0.000000</td>\n",
       "      <td>-414.000000</td>\n",
       "      <td>0.000000</td>\n",
       "      <td>0.000000</td>\n",
       "      <td>-1.000000</td>\n",
       "      <td>NaN</td>\n",
       "      <td>0.000000</td>\n",
       "      <td>1.000000</td>\n",
       "      <td>1.000000</td>\n",
       "      <td>0.000000</td>\n",
       "      <td>0.000000</td>\n",
       "      <td>0.000000</td>\n",
       "      <td>0.000000</td>\n",
       "      <td>0.000000</td>\n",
       "    </tr>\n",
       "    <tr>\n",
       "      <th>25%</th>\n",
       "      <td>2735.250000</td>\n",
       "      <td>25.000000</td>\n",
       "      <td>0.000000</td>\n",
       "      <td>2.000000</td>\n",
       "      <td>0.000000</td>\n",
       "      <td>0.000000</td>\n",
       "      <td>0.000000</td>\n",
       "      <td>-1.000000</td>\n",
       "      <td>1.000000</td>\n",
       "      <td>0.000000</td>\n",
       "      <td>0.000000</td>\n",
       "      <td>NaN</td>\n",
       "      <td>0.000000</td>\n",
       "      <td>2.000000</td>\n",
       "      <td>1.000000</td>\n",
       "      <td>0.000000</td>\n",
       "      <td>0.000000</td>\n",
       "      <td>148.250000</td>\n",
       "      <td>0.000000</td>\n",
       "      <td>0.000000</td>\n",
       "    </tr>\n",
       "    <tr>\n",
       "      <th>50%</th>\n",
       "      <td>5509.500000</td>\n",
       "      <td>31.000000</td>\n",
       "      <td>0.000000</td>\n",
       "      <td>4.000000</td>\n",
       "      <td>0.000000</td>\n",
       "      <td>0.000000</td>\n",
       "      <td>2.000000</td>\n",
       "      <td>-1.000000</td>\n",
       "      <td>1.000000</td>\n",
       "      <td>0.000000</td>\n",
       "      <td>0.000000</td>\n",
       "      <td>NaN</td>\n",
       "      <td>0.000000</td>\n",
       "      <td>4.000000</td>\n",
       "      <td>3.000000</td>\n",
       "      <td>2.000000</td>\n",
       "      <td>0.000000</td>\n",
       "      <td>530.500000</td>\n",
       "      <td>0.000000</td>\n",
       "      <td>0.000000</td>\n",
       "    </tr>\n",
       "    <tr>\n",
       "      <th>75%</th>\n",
       "      <td>8246.500000</td>\n",
       "      <td>42.000000</td>\n",
       "      <td>0.000000</td>\n",
       "      <td>7.000000</td>\n",
       "      <td>0.000000</td>\n",
       "      <td>0.000000</td>\n",
       "      <td>5.000000</td>\n",
       "      <td>0.000000</td>\n",
       "      <td>2.000000</td>\n",
       "      <td>1.000000</td>\n",
       "      <td>1.000000</td>\n",
       "      <td>NaN</td>\n",
       "      <td>0.000000</td>\n",
       "      <td>7.000000</td>\n",
       "      <td>5.000000</td>\n",
       "      <td>5.000000</td>\n",
       "      <td>1.000000</td>\n",
       "      <td>914.000000</td>\n",
       "      <td>1.000000</td>\n",
       "      <td>1.000000</td>\n",
       "    </tr>\n",
       "    <tr>\n",
       "      <th>max</th>\n",
       "      <td>11001.000000</td>\n",
       "      <td>96.000000</td>\n",
       "      <td>20.000000</td>\n",
       "      <td>10.000000</td>\n",
       "      <td>13.000000</td>\n",
       "      <td>17.000000</td>\n",
       "      <td>38.000000</td>\n",
       "      <td>1057.000000</td>\n",
       "      <td>9485.000000</td>\n",
       "      <td>1.000000</td>\n",
       "      <td>993.000000</td>\n",
       "      <td>NaN</td>\n",
       "      <td>1.000000</td>\n",
       "      <td>10.000000</td>\n",
       "      <td>10.000000</td>\n",
       "      <td>38.000000</td>\n",
       "      <td>937.000000</td>\n",
       "      <td>1186.000000</td>\n",
       "      <td>1.000000</td>\n",
       "      <td>1.000000</td>\n",
       "    </tr>\n",
       "  </tbody>\n",
       "</table>\n",
       "</div>"
      ],
      "text/plain": [
       "                 id          age  juv_fel_count  decile_score  juv_misd_count  \\\n",
       "count   7214.000000  7214.000000    7214.000000   7214.000000     7214.000000   \n",
       "mean    5501.255753    34.817993       0.067230      4.509565        0.090934   \n",
       "std     3175.706870    11.888922       0.473972      2.856396        0.485239   \n",
       "min        1.000000    18.000000       0.000000      1.000000        0.000000   \n",
       "25%     2735.250000    25.000000       0.000000      2.000000        0.000000   \n",
       "50%     5509.500000    31.000000       0.000000      4.000000        0.000000   \n",
       "75%     8246.500000    42.000000       0.000000      7.000000        0.000000   \n",
       "max    11001.000000    96.000000      20.000000     10.000000       13.000000   \n",
       "\n",
       "       juv_other_count  priors_count  days_b_screening_arrest  \\\n",
       "count      7214.000000   7214.000000              6907.000000   \n",
       "mean          0.109371      3.472415                 3.304763   \n",
       "std           0.501586      4.882538                75.809505   \n",
       "min           0.000000      0.000000              -414.000000   \n",
       "25%           0.000000      0.000000                -1.000000   \n",
       "50%           0.000000      2.000000                -1.000000   \n",
       "75%           0.000000      5.000000                 0.000000   \n",
       "max          17.000000     38.000000              1057.000000   \n",
       "\n",
       "       c_days_from_compas     is_recid  r_days_from_arrest  violent_recid  \\\n",
       "count         7192.000000  7214.000000         2316.000000            0.0   \n",
       "mean            57.731368     0.481148           20.269430            NaN   \n",
       "std            329.740215     0.499679           74.871668            NaN   \n",
       "min              0.000000     0.000000           -1.000000            NaN   \n",
       "25%              1.000000     0.000000            0.000000            NaN   \n",
       "50%              1.000000     0.000000            0.000000            NaN   \n",
       "75%              2.000000     1.000000            1.000000            NaN   \n",
       "max           9485.000000     1.000000          993.000000            NaN   \n",
       "\n",
       "       is_violent_recid  decile_score.1  v_decile_score  priors_count.1  \\\n",
       "count       7214.000000     7214.000000     7214.000000     7214.000000   \n",
       "mean           0.113529        4.509565        3.691849        3.472415   \n",
       "std            0.317261        2.856396        2.510148        4.882538   \n",
       "min            0.000000        1.000000        1.000000        0.000000   \n",
       "25%            0.000000        2.000000        1.000000        0.000000   \n",
       "50%            0.000000        4.000000        3.000000        2.000000   \n",
       "75%            0.000000        7.000000        5.000000        5.000000   \n",
       "max            1.000000       10.000000       10.000000       38.000000   \n",
       "\n",
       "             start          end        event  two_year_recid  \n",
       "count  7214.000000  7214.000000  7214.000000     7214.000000  \n",
       "mean     11.465068   553.436651     0.382867        0.450652  \n",
       "std      46.954563   399.020583     0.486120        0.497593  \n",
       "min       0.000000     0.000000     0.000000        0.000000  \n",
       "25%       0.000000   148.250000     0.000000        0.000000  \n",
       "50%       0.000000   530.500000     0.000000        0.000000  \n",
       "75%       1.000000   914.000000     1.000000        1.000000  \n",
       "max     937.000000  1186.000000     1.000000        1.000000  "
      ]
     },
     "execution_count": 22,
     "metadata": {},
     "output_type": "execute_result"
    }
   ],
   "source": [
    "df.describe()"
   ]
  },
  {
   "cell_type": "markdown",
   "metadata": {},
   "source": [
    "#### Checking for missing values"
   ]
  },
  {
   "cell_type": "code",
   "execution_count": 23,
   "metadata": {},
   "outputs": [
    {
     "name": "stdout",
     "output_type": "stream",
     "text": [
      "id                            0\n",
      "name                          0\n",
      "first                         0\n",
      "last                          0\n",
      "compas_screening_date         0\n",
      "sex                           0\n",
      "dob                           0\n",
      "age                           0\n",
      "age_cat                       0\n",
      "race                          0\n",
      "juv_fel_count                 0\n",
      "decile_score                  0\n",
      "juv_misd_count                0\n",
      "juv_other_count               0\n",
      "priors_count                  0\n",
      "days_b_screening_arrest     307\n",
      "c_jail_in                   307\n",
      "c_jail_out                  307\n",
      "c_case_number                22\n",
      "c_offense_date             1159\n",
      "c_arrest_date              6077\n",
      "c_days_from_compas           22\n",
      "c_charge_degree               0\n",
      "c_charge_desc                29\n",
      "is_recid                      0\n",
      "r_case_number              3743\n",
      "r_charge_degree            3743\n",
      "r_days_from_arrest         4898\n",
      "r_offense_date             3743\n",
      "r_charge_desc              3801\n",
      "r_jail_in                  4898\n",
      "r_jail_out                 4898\n",
      "violent_recid              7214\n",
      "is_violent_recid              0\n",
      "vr_case_number             6395\n",
      "vr_charge_degree           6395\n",
      "vr_offense_date            6395\n",
      "vr_charge_desc             6395\n",
      "type_of_assessment            0\n",
      "decile_score.1                0\n",
      "score_text                    0\n",
      "screening_date                0\n",
      "v_type_of_assessment          0\n",
      "v_decile_score                0\n",
      "v_score_text                  0\n",
      "v_screening_date              0\n",
      "in_custody                  236\n",
      "out_custody                 236\n",
      "priors_count.1                0\n",
      "start                         0\n",
      "end                           0\n",
      "event                         0\n",
      "two_year_recid                0\n",
      "dtype: int64\n"
     ]
    }
   ],
   "source": [
    "print(df.isnull().sum())"
   ]
  },
  {
   "cell_type": "markdown",
   "metadata": {
    "tags": []
   },
   "source": [
    "#### Distribution Plot of Age"
   ]
  },
  {
   "cell_type": "code",
   "execution_count": 24,
   "metadata": {},
   "outputs": [
    {
     "data": {
      "image/png": "[encoded data removed]",
      "text/plain": [
       "<Figure size 720x432 with 1 Axes>"
      ]
     },
     "metadata": {
      "needs_background": "light"
     },
     "output_type": "display_data"
    }
   ],
   "source": [
    "plt.figure(figsize=(10, 6))\n",
    "sns.histplot(df['age'], bins=30, kde=True)\n",
    "plt.title('Distribution of Age')\n",
    "plt.xlabel('Age')\n",
    "plt.ylabel('Frequency')\n",
    "plt.show()"
   ]
  },
  {
   "cell_type": "markdown",
   "metadata": {},
   "source": [
    "#### Race v/s Count"
   ]
  },
  {
   "cell_type": "code",
   "execution_count": 26,
   "metadata": {},
   "outputs": [
    {
     "data": {
      "image/png": "[encoded data removed]",
      "text/plain": [
       "<Figure size 720x432 with 1 Axes>"
      ]
     },
     "metadata": {
      "needs_background": "light"
     },
     "output_type": "display_data"
    }
   ],
   "source": [
    "plt.figure(figsize=(10, 6))\n",
    "sns.countplot(x='race', data=df)\n",
    "plt.title('Count of Individuals by Race')\n",
    "plt.xlabel('Race')\n",
    "plt.ylabel('Count')\n",
    "plt.show()"
   ]
  },
  {
   "cell_type": "markdown",
   "metadata": {},
   "source": [
    "## Preprocessing"
   ]
  },
  {
   "cell_type": "markdown",
   "metadata": {},
   "source": [
    "Selecting the features we will use for analysis, the target variable and the sensitive attributes"
   ]
  },
  {
   "cell_type": "code",
   "execution_count": 27,
   "metadata": {},
   "outputs": [],
   "source": [
    "FEATURES_CLASSIFICATION = [\"age_cat\", \"race\", \"sex\", \"priors_count\", \"c_charge_degree\", 'score_text', 'decile_score']\n",
    "CONT_VARIABLES = [\"priors_count\", \"decile_score\"] \n",
    "CLASS_FEATURE = \"two_year_recid\" \n",
    "SENSITIVE_ATTRS = [\"race\"]"
   ]
  },
  {
   "cell_type": "code",
   "execution_count": 28,
   "metadata": {},
   "outputs": [
    {
     "name": "stdout",
     "output_type": "stream",
     "text": [
      "age_cat\n",
      "['Greater than 45' '25 - 45' 'Less than 25']\n",
      "--------------------------\n",
      "race\n",
      "['Other' 'African-American' 'Caucasian' 'Hispanic' 'Native American'\n",
      " 'Asian']\n",
      "--------------------------\n",
      "sex\n",
      "['Male' 'Female']\n",
      "--------------------------\n",
      "priors_count\n",
      "[ 0  4  1  2 14  3  7  6  5 13  8  9 21 20 15 10 12 28 19 11 22 23 25 24\n",
      " 36 18 16 33 17 30 27 38 26 37 29 35 31]\n",
      "--------------------------\n",
      "c_charge_degree\n",
      "['F' 'M']\n",
      "--------------------------\n",
      "score_text\n",
      "['Low' 'High' 'Medium']\n",
      "--------------------------\n",
      "decile_score\n",
      "[ 1  3  4  8  6 10  5  9  2  7]\n",
      "--------------------------\n"
     ]
    }
   ],
   "source": [
    "for column in FEATURES_CLASSIFICATION:\n",
    "    print(column)\n",
    "    print(df[column].unique())\n",
    "    print(\"--------------------------\")"
   ]
  },
  {
   "cell_type": "code",
   "execution_count": 29,
   "metadata": {},
   "outputs": [],
   "source": [
    "df = df.dropna(subset=[\"days_b_screening_arrest\"]) \n",
    "data = df.to_dict('list')\n",
    "for k in data.keys():\n",
    "    data[k] = np.array(data[k])\n"
   ]
  },
  {
   "cell_type": "markdown",
   "metadata": {},
   "source": [
    "The following preprocessing steps are taken based on the [propublica GitHub page](https://github.com/propublica/compas-analysis)\n",
    "\n",
    "\n",
    "- If the charge date of a defendants Compas scored crime was not within 30 days from when the person was arrested, we assume that because of data quality reasons, that we do not have the right offense.\n",
    "- We coded the recidivist flag -- is_recid -- to be -1 if we could not find a compas case at all.\n",
    "- In a similar vein, ordinary traffic offenses -- those with a c_charge_degree of 'O' -- will not result in Jail time are removed (only two of them).\n",
    "- We filtered the underlying data from Broward county to include only those rows representing people who had either recidivated in two years, or had at least two years outside of a correctional facility."
   ]
  },
  {
   "cell_type": "code",
   "execution_count": 30,
   "metadata": {},
   "outputs": [],
   "source": [
    "idx = np.logical_and(data[\"days_b_screening_arrest\"]<=30, data[\"days_b_screening_arrest\"]>=-30)\n",
    "\n",
    "idx = np.logical_and(idx, data[\"is_recid\"] != -1)\n",
    "\n",
    "idx = np.logical_and(idx, data[\"c_charge_degree\"] != \"O\") \n",
    "\n",
    "idx = np.logical_and(idx, data[\"score_text\"] != \"NA\")\n",
    "\n",
    "idx = np.logical_and(idx, np.logical_or(data[\"race\"] == \"African-American\", data[\"race\"] == \"Caucasian\"))\n",
    "\n",
    "for k in data.keys():\n",
    "    data[k] = data[k][idx]"
   ]
  },
  {
   "cell_type": "code",
   "execution_count": 31,
   "metadata": {},
   "outputs": [
    {
     "name": "stdout",
     "output_type": "stream",
     "text": [
      "African-American: 3175\n",
      "Caucasian: 2103\n"
     ]
    }
   ],
   "source": [
    "unique_values, value_counts = np.unique(data['race'], return_counts=True)\n",
    "\n",
    "# Display unique values and their counts\n",
    "for value, count in zip(unique_values, value_counts):\n",
    "    print(f\"{value}: {count}\")"
   ]
  },
  {
   "cell_type": "code",
   "execution_count": 32,
   "metadata": {},
   "outputs": [
    {
     "name": "stdout",
     "output_type": "stream",
     "text": [
      "Number of people recidivating within two years\n",
      "-1    2795\n",
      " 1    2483\n",
      "dtype: int64\n"
     ]
    }
   ],
   "source": [
    "y = data[CLASS_FEATURE]\n",
    "y[y==0] = -1\n",
    "\n",
    "print(\"Number of people recidivating within two years\")\n",
    "print(pd.Series(y).value_counts())"
   ]
  },
  {
   "cell_type": "code",
   "execution_count": 33,
   "metadata": {},
   "outputs": [],
   "source": [
    "X = np.array([]).reshape(len(y), 0) \n",
    "x_control = defaultdict(list)"
   ]
  },
  {
   "cell_type": "markdown",
   "metadata": {},
   "source": [
    "Convert the discrete variables to one-hot encoded columns and scale the continuous variables"
   ]
  },
  {
   "cell_type": "code",
   "execution_count": 34,
   "metadata": {},
   "outputs": [],
   "source": [
    "feature_names = []\n",
    "for attr in FEATURES_CLASSIFICATION:\n",
    "    vals = data[attr]\n",
    "    if attr in CONT_VARIABLES:\n",
    "        vals = [float(v) for v in vals]\n",
    "        vals = preprocessing.scale(vals) \n",
    "        vals = np.reshape(vals, (len(y), -1)) \n",
    "\n",
    "    else: \n",
    "        lb = preprocessing.LabelBinarizer()\n",
    "        lb.fit(vals)\n",
    "        vals = lb.transform(vals)\n",
    "\n",
    "    # add to sensitive features dict\n",
    "    if attr in SENSITIVE_ATTRS:\n",
    "        x_control[attr] = vals\n",
    "\n",
    "\n",
    "    # add to learnable features\n",
    "    X = np.hstack((X, vals))\n",
    "\n",
    "    if attr in CONT_VARIABLES: # continuous feature, just append the name\n",
    "        feature_names.append(attr)\n",
    "    else: # categorical features\n",
    "        if vals.shape[1] == 1: # binary features that passed through lib binarizer\n",
    "            feature_names.append(attr)\n",
    "        else:\n",
    "            for k in lb.classes_: # non-binary categorical features, need to add the names for each cat\n",
    "                feature_names.append(attr + \"_\" + str(k))"
   ]
  },
  {
   "cell_type": "code",
   "execution_count": 35,
   "metadata": {},
   "outputs": [],
   "source": [
    "# convert the sensitive feature to 1-d array\n",
    "x_control = dict(x_control)\n",
    "for k in x_control.keys():\n",
    "    assert(x_control[k].shape[1] == 1) # make sure that the sensitive feature is binary after one hot encoding\n",
    "    x_control[k] = np.array(x_control[k]).flatten()"
   ]
  },
  {
   "cell_type": "code",
   "execution_count": 36,
   "metadata": {},
   "outputs": [],
   "source": [
    "perm = list(range(0, X.shape[0]))\n",
    "shuffle(perm)\n",
    "X = X[perm]\n",
    "y = y[perm]\n",
    "for k in x_control.keys():\n",
    "    x_control[k] = x_control[k][perm]\n"
   ]
  },
  {
   "cell_type": "code",
   "execution_count": 37,
   "metadata": {},
   "outputs": [
    {
     "name": "stdout",
     "output_type": "stream",
     "text": [
      "Features we will be using for classification are: ['intercept', 'age_cat_25 - 45', 'age_cat_Greater than 45', 'age_cat_Less than 25', 'race', 'sex', 'priors_count', 'c_charge_degree', 'score_text_High', 'score_text_Low', 'score_text_Medium', 'decile_score'] \n",
      "\n"
     ]
    }
   ],
   "source": [
    "X = ut.add_intercept(X)\n",
    "\n",
    "feature_names = [\"intercept\"] + feature_names\n",
    "assert(len(feature_names) == X.shape[1])\n",
    "print (\"Features we will be using for classification are:\", feature_names, \"\\n\")\n"
   ]
  },
  {
   "cell_type": "markdown",
   "metadata": {},
   "source": [
    "Compute the p-rule in the original data"
   ]
  },
  {
   "cell_type": "code",
   "execution_count": 38,
   "metadata": {},
   "outputs": [
    {
     "name": "stdout",
     "output_type": "stream",
     "text": [
      "Total data points: 5278\n",
      "# non-protected examples: 2103\n",
      "# protected examples: 3175\n",
      "Non-protected in positive class: 822 (39%)\n",
      "Protected in positive class: 1661 (52%)\n",
      "P-rule is: 134%\n"
     ]
    },
    {
     "data": {
      "text/plain": [
       "133.84228978676936"
      ]
     },
     "execution_count": 38,
     "metadata": {},
     "output_type": "execute_result"
    }
   ],
   "source": [
    "ut.compute_p_rule(x_control[\"race\"], y) \n"
   ]
  },
  {
   "cell_type": "markdown",
   "metadata": {},
   "source": [
    "Split the data into train and test\n"
   ]
  },
  {
   "cell_type": "code",
   "execution_count": 39,
   "metadata": {},
   "outputs": [],
   "source": [
    "train_fold_size = 0.7\n",
    "x_train, y_train, x_control_train, x_test, y_test, x_control_test = ut.split_into_train_test(X, y, x_control, train_fold_size)\n"
   ]
  },
  {
   "cell_type": "markdown",
   "metadata": {},
   "source": [
    "## Logictic Regression"
   ]
  },
  {
   "cell_type": "markdown",
   "metadata": {},
   "source": [
    "Normal Logistic Regression without applying fairness constraints. For this the the \"apply_fairness_constraints\" value should be set to 0."
   ]
  },
  {
   "cell_type": "code",
   "execution_count": 40,
   "metadata": {},
   "outputs": [],
   "source": [
    "apply_fairness_constraints = 0\n",
    "apply_accuracy_constraint = 0\n",
    "sep_constraint = 0\n",
    "\n",
    "loss_function = lf._logistic_loss\n",
    "sensitive_attrs = [\"race\"]\n",
    "sensitive_attrs_to_cov_thresh = {}\n",
    "gamma = None"
   ]
  },
  {
   "cell_type": "code",
   "execution_count": 41,
   "metadata": {},
   "outputs": [
    {
     "name": "stdout",
     "output_type": "stream",
     "text": [
      "Accuracy: 0.70\n",
      "Protected/non-protected in +ve class: 50% / 25%\n",
      "P-rule achieved: 204%\n",
      "Covariance between sensitive feature and decision from distance boundary : 0.148\n"
     ]
    }
   ],
   "source": [
    "w = ut.train_model(x_train, y_train, x_control_train, loss_function, apply_fairness_constraints, apply_accuracy_constraint, sep_constraint, sensitive_attrs, sensitive_attrs_to_cov_thresh, gamma)\n",
    "train_score, test_score, correct_answers_train, correct_answers_test = ut.check_accuracy(w, x_train, y_train, x_test, y_test, None, None)\n",
    "distances_boundary_test = (np.dot(x_test, w)).tolist()\n",
    "all_class_labels_assigned_test = np.sign(distances_boundary_test)\n",
    "correlation_dict_test = ut.get_correlations(None, None, all_class_labels_assigned_test, x_control_test, sensitive_attrs)\n",
    "cov_dict_test = ut.print_covariance_sensitive_attrs(None, x_test, distances_boundary_test, x_control_test, sensitive_attrs)\n",
    "p_rule = ut.print_classifier_fairness_stats([test_score], [correlation_dict_test], [cov_dict_test], sensitive_attrs[0])\t\n"
   ]
  },
  {
   "cell_type": "markdown",
   "metadata": {},
   "source": [
    "Logistic Regression with fairness constraints. For this the the \"apply_fairness_constraints\" value should be set to 1 and the \"sensitive_attrs_to_cov_thresh\" should pass the dict of fairness column."
   ]
  },
  {
   "cell_type": "code",
   "execution_count": 42,
   "metadata": {},
   "outputs": [],
   "source": [
    "apply_fairness_constraints = 1\n",
    "apply_accuracy_constraint = 0\n",
    "sep_constraint = 0\n",
    "\n",
    "loss_function = lf._logistic_loss\n",
    "sensitive_attrs = [\"race\"]\n",
    "sensitive_attrs_to_cov_thresh = {\"race\":0}\n",
    "gamma = None"
   ]
  },
  {
   "cell_type": "code",
   "execution_count": 43,
   "metadata": {},
   "outputs": [
    {
     "name": "stdout",
     "output_type": "stream",
     "text": [
      "Accuracy: 0.69\n",
      "Protected/non-protected in +ve class: 42% / 38%\n",
      "P-rule achieved: 110%\n",
      "Covariance between sensitive feature and decision from distance boundary : 0.000\n"
     ]
    }
   ],
   "source": [
    "w = ut.train_model(x_train, y_train, x_control_train, loss_function, apply_fairness_constraints, apply_accuracy_constraint, sep_constraint, sensitive_attrs, sensitive_attrs_to_cov_thresh, gamma)\n",
    "train_score, test_score, correct_answers_train, correct_answers_test = ut.check_accuracy(w, x_train, y_train, x_test, y_test, None, None)\n",
    "distances_boundary_test = (np.dot(x_test, w)).tolist()\n",
    "all_class_labels_assigned_test = np.sign(distances_boundary_test)\n",
    "correlation_dict_test = ut.get_correlations(None, None, all_class_labels_assigned_test, x_control_test, sensitive_attrs)\n",
    "cov_dict_test = ut.print_covariance_sensitive_attrs(None, x_test, distances_boundary_test, x_control_test, sensitive_attrs)\n",
    "p_rule = ut.print_classifier_fairness_stats([test_score], [correlation_dict_test], [cov_dict_test], sensitive_attrs[0])\t\n"
   ]
  },
  {
   "cell_type": "markdown",
   "metadata": {},
   "source": [
    "## Support Vector Machine"
   ]
  },
  {
   "cell_type": "markdown",
   "metadata": {},
   "source": [
    "Without fairness"
   ]
  },
  {
   "cell_type": "code",
   "execution_count": 44,
   "metadata": {},
   "outputs": [],
   "source": [
    "apply_fairness_constraints = 0\n",
    "apply_accuracy_constraint = 0\n",
    "sep_constraint = 0\n",
    "\n",
    "loss_function = lf._hinge_loss\n",
    "sensitive_attrs = [\"race\"]\n",
    "sensitive_attrs_to_cov_thresh = {}\n",
    "gamma = None"
   ]
  },
  {
   "cell_type": "code",
   "execution_count": 45,
   "metadata": {},
   "outputs": [
    {
     "name": "stdout",
     "output_type": "stream",
     "text": [
      "Accuracy: 0.67\n",
      "Protected/non-protected in +ve class: 57% / 32%\n",
      "P-rule achieved: 179%\n",
      "Covariance between sensitive feature and decision from distance boundary : 0.120\n"
     ]
    }
   ],
   "source": [
    "w = ut.train_model(x_train, y_train, x_control_train, loss_function, apply_fairness_constraints, apply_accuracy_constraint, sep_constraint, sensitive_attrs, sensitive_attrs_to_cov_thresh, gamma)\n",
    "train_score, test_score, correct_answers_train, correct_answers_test = ut.check_accuracy(w, x_train, y_train, x_test, y_test, None, None)\n",
    "distances_boundary_test = (np.dot(x_test, w)).tolist()\n",
    "all_class_labels_assigned_test = np.sign(distances_boundary_test)\n",
    "correlation_dict_test = ut.get_correlations(None, None, all_class_labels_assigned_test, x_control_test, sensitive_attrs)\n",
    "cov_dict_test = ut.print_covariance_sensitive_attrs(None, x_test, distances_boundary_test, x_control_test, sensitive_attrs)\n",
    "p_rule = ut.print_classifier_fairness_stats([test_score], [correlation_dict_test], [cov_dict_test], sensitive_attrs[0])\t\n"
   ]
  },
  {
   "cell_type": "markdown",
   "metadata": {},
   "source": [
    "With fairness"
   ]
  },
  {
   "cell_type": "code",
   "execution_count": 46,
   "metadata": {},
   "outputs": [],
   "source": [
    "apply_fairness_constraints = 1\n",
    "apply_accuracy_constraint = 0\n",
    "sep_constraint = 0\n",
    "\n",
    "loss_function = lf._hinge_loss\n",
    "sensitive_attrs = [\"race\"]\n",
    "sensitive_attrs_to_cov_thresh = {\"race\":0}\n",
    "gamma = None"
   ]
  },
  {
   "cell_type": "code",
   "execution_count": 47,
   "metadata": {},
   "outputs": [
    {
     "name": "stdout",
     "output_type": "stream",
     "text": [
      "Accuracy: 0.67\n",
      "Protected/non-protected in +ve class: 56% / 32%\n",
      "P-rule achieved: 174%\n",
      "Covariance between sensitive feature and decision from distance boundary : 0.002\n"
     ]
    }
   ],
   "source": [
    "w = ut.train_model(x_train, y_train, x_control_train, loss_function, apply_fairness_constraints, apply_accuracy_constraint, sep_constraint, sensitive_attrs, sensitive_attrs_to_cov_thresh, gamma)\n",
    "train_score, test_score, correct_answers_train, correct_answers_test = ut.check_accuracy(w, x_train, y_train, x_test, y_test, None, None)\n",
    "distances_boundary_test = (np.dot(x_test, w)).tolist()\n",
    "all_class_labels_assigned_test = np.sign(distances_boundary_test)\n",
    "correlation_dict_test = ut.get_correlations(None, None, all_class_labels_assigned_test, x_control_test, sensitive_attrs)\n",
    "cov_dict_test = ut.print_covariance_sensitive_attrs(None, x_test, distances_boundary_test, x_control_test, sensitive_attrs)\n",
    "p_rule = ut.print_classifier_fairness_stats([test_score], [correlation_dict_test], [cov_dict_test], sensitive_attrs[0])\t\n"
   ]
  }
 ],
 "metadata": {
  "kernelspec": {
   "display_name": "Python 3 (ipykernel)",
   "language": "python",
   "name": "python3"
  },
  "language_info": {
   "codemirror_mode": {
    "name": "ipython",
    "version": 3
   },
   "file_extension": ".py",
   "mimetype": "text/x-python",
   "name": "python",
   "nbconvert_exporter": "python",
   "pygments_lexer": "ipython3",
   "version": "3.9.12"
  }
 },
 "nbformat": 4,
 "nbformat_minor": 4
}
